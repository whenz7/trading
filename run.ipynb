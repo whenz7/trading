{
 "cells": [
  {
   "cell_type": "code",
   "execution_count": 2,
   "id": "dd39a8b5-1cdb-41cc-8883-ce38ffec8653",
   "metadata": {},
   "outputs": [
    {
     "name": "stdout",
     "output_type": "stream",
     "text": [
      "- add_technical_indicators -\n",
      "- populate_buy_sell -\n",
      "{'open_date': Timestamp('2023-01-01 00:47:00'), 'position': 'LONG', 'open_reason': 'Buy signal', 'open_price': 16536.0, 'open_fee': 0.06, 'open_trade_size': 0.006047411707789066, 'wallet': -0.06}\n",
      "{'open_date': Timestamp('2023-01-01 00:47:00'), 'close_date': Timestamp('2023-01-01 01:17:00'), 'open_reason': 'Buy signal', 'close_reason': 'Limit', 'open_price': 16536.0, 'close_price': 16551.0, 'open_fee': 0.06, 'close_fee': 0.0600544267053701, 'wallet': -0.029343251088534104}\n",
      "Nombre de trades effectués: 2\n",
      "Pourcentage de gain ou de perte réalisé(e) : -100.03%\n",
      "Gain ou perte réalisé(e): -100.03\n",
      "Valeur du portefeuille final: -0.03\n"
     ]
    }
   ],
   "source": [
    "from stratgeez import StratGeez\n",
    "from data_utils import load_historical_data\n",
    "from backtest import Backtest\n",
    "\n",
    "csv_file_path = \"database/Bybit/1m/BTCUSDT.csv\"\n",
    "historical_data = load_historical_data(csv_file_path)\n",
    "\n",
    "\n",
    "strategy = StratGeez(\n",
    "    pair=\"BTCUSDT\",\n",
    "    exchange=None,\n",
    "    timeframe=None,\n",
    "    )\n",
    "\n",
    "backtest = Backtest(strategy, historical_data, pair=\"BTCUSDT\")\n",
    "trades, df = backtest.run()\n",
    "final_wallet = strategy.position.wallet\n",
    "\n",
    "num_trades = len(trades)\n",
    "gain_or_loss = final_wallet - strategy.position.initial_wallet\n",
    "percentage_change = (final_wallet - strategy.position.initial_wallet) / strategy.position.initial_wallet * 100\n",
    "\n",
    "print(f\"Nombre de trades effectués: {num_trades}\")\n",
    "print(f\"Pourcentage de gain ou de perte réalisé(e) : {percentage_change:.2f}%\")\n",
    "print(f\"Gain ou perte réalisé(e): {gain_or_loss:.2f}\")\n",
    "print(f\"Valeur du portefeuille final: {final_wallet:.2f}\")\n",
    "\n"
   ]
  }
 ],
 "metadata": {
  "kernelspec": {
   "display_name": "Python 3 (ipykernel)",
   "language": "python",
   "name": "python3"
  },
  "language_info": {
   "codemirror_mode": {
    "name": "ipython",
    "version": 3
   },
   "file_extension": ".py",
   "mimetype": "text/x-python",
   "name": "python",
   "nbconvert_exporter": "python",
   "pygments_lexer": "ipython3",
   "version": "3.10.11"
  }
 },
 "nbformat": 4,
 "nbformat_minor": 5
}
